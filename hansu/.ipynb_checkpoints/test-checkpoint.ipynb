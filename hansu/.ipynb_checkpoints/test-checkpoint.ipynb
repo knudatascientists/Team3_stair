{
 "cells": [
  {
   "cell_type": "code",
   "execution_count": 3,
   "id": "4be766c8",
   "metadata": {},
   "outputs": [],
   "source": [
    "from station import Station\n",
    "from userInfo import UserInfo\n",
    "station_app = Station()\n",
    "user1 = UserInfo.geocoding('대구광역시 산격동 글로벌플라자')"
   ]
  },
  {
   "cell_type": "code",
   "execution_count": 2,
   "id": "03ce9f30",
   "metadata": {
    "scrolled": true
   },
   "outputs": [
    {
     "data": {
      "text/html": [
       "<div>\n",
       "<style scoped>\n",
       "    .dataframe tbody tr th:only-of-type {\n",
       "        vertical-align: middle;\n",
       "    }\n",
       "\n",
       "    .dataframe tbody tr th {\n",
       "        vertical-align: top;\n",
       "    }\n",
       "\n",
       "    .dataframe thead th {\n",
       "        text-align: right;\n",
       "    }\n",
       "</style>\n",
       "<table border=\"1\" class=\"dataframe\">\n",
       "  <thead>\n",
       "    <tr style=\"text-align: right;\">\n",
       "      <th></th>\n",
       "      <th>충전소명</th>\n",
       "      <th>경도</th>\n",
       "      <th>위도</th>\n",
       "    </tr>\n",
       "  </thead>\n",
       "  <tbody>\n",
       "    <tr>\n",
       "      <th>0</th>\n",
       "      <td>DMC래미안e편한세상</td>\n",
       "      <td>37.572233</td>\n",
       "      <td>126.909946</td>\n",
       "    </tr>\n",
       "    <tr>\n",
       "      <th>1</th>\n",
       "      <td>DMC센트럴아이파크아파트</td>\n",
       "      <td>37.579362</td>\n",
       "      <td>126.920840</td>\n",
       "    </tr>\n",
       "    <tr>\n",
       "      <th>2</th>\n",
       "      <td>DMC아이파크 아파트</td>\n",
       "      <td>37.575441</td>\n",
       "      <td>126.914327</td>\n",
       "    </tr>\n",
       "    <tr>\n",
       "      <th>3</th>\n",
       "      <td>e편한세상 금호파크힐스</td>\n",
       "      <td>37.554215</td>\n",
       "      <td>127.022719</td>\n",
       "    </tr>\n",
       "    <tr>\n",
       "      <th>4</th>\n",
       "      <td>e편한세상마포리버파크</td>\n",
       "      <td>37.541996</td>\n",
       "      <td>126.943692</td>\n",
       "    </tr>\n",
       "    <tr>\n",
       "      <th>...</th>\n",
       "      <td>...</td>\n",
       "      <td>...</td>\n",
       "      <td>...</td>\n",
       "    </tr>\n",
       "    <tr>\n",
       "      <th>625</th>\n",
       "      <td>휘경주공1단지</td>\n",
       "      <td>37.582369</td>\n",
       "      <td>127.071263</td>\n",
       "    </tr>\n",
       "    <tr>\n",
       "      <th>626</th>\n",
       "      <td>흑석한강센트레빌</td>\n",
       "      <td>37.505913</td>\n",
       "      <td>126.965193</td>\n",
       "    </tr>\n",
       "    <tr>\n",
       "      <th>627</th>\n",
       "      <td>힐스테이트 강동리버뷰</td>\n",
       "      <td>37.548820</td>\n",
       "      <td>127.125370</td>\n",
       "    </tr>\n",
       "    <tr>\n",
       "      <th>628</th>\n",
       "      <td>힐스테이트상도프레스티지</td>\n",
       "      <td>37.494751</td>\n",
       "      <td>126.948272</td>\n",
       "    </tr>\n",
       "    <tr>\n",
       "      <th>629</th>\n",
       "      <td>힐스테이트청계</td>\n",
       "      <td>37.571543</td>\n",
       "      <td>127.045904</td>\n",
       "    </tr>\n",
       "  </tbody>\n",
       "</table>\n",
       "<p>630 rows × 3 columns</p>\n",
       "</div>"
      ],
      "text/plain": [
       "              충전소명         경도          위도\n",
       "0      DMC래미안e편한세상  37.572233  126.909946\n",
       "1    DMC센트럴아이파크아파트  37.579362  126.920840\n",
       "2      DMC아이파크 아파트  37.575441  126.914327\n",
       "3     e편한세상 금호파크힐스  37.554215  127.022719\n",
       "4      e편한세상마포리버파크  37.541996  126.943692\n",
       "..             ...        ...         ...\n",
       "625        휘경주공1단지  37.582369  127.071263\n",
       "626       흑석한강센트레빌  37.505913  126.965193\n",
       "627    힐스테이트 강동리버뷰  37.548820  127.125370\n",
       "628   힐스테이트상도프레스티지  37.494751  126.948272\n",
       "629        힐스테이트청계  37.571543  127.045904\n",
       "\n",
       "[630 rows x 3 columns]"
      ]
     },
     "execution_count": 2,
     "metadata": {},
     "output_type": "execute_result"
    }
   ],
   "source": [
    "station_app"
   ]
  },
  {
   "cell_type": "code",
   "execution_count": 4,
   "id": "5f3f0d40",
   "metadata": {},
   "outputs": [
    {
     "name": "stdout",
     "output_type": "stream",
     "text": [
      "사용자 현제 위치 : 대구광역시 산격동 글로벌플라자\n",
      "위도 : 35.891887, 경도 : 128.61133700069712\n"
     ]
    }
   ],
   "source": [
    "user1.get_user_info()"
   ]
  },
  {
   "cell_type": "code",
   "execution_count": null,
   "id": "d3a25ad8",
   "metadata": {},
   "outputs": [],
   "source": []
  }
 ],
 "metadata": {
  "kernelspec": {
   "display_name": "Python 3 (ipykernel)",
   "language": "python",
   "name": "python3"
  },
  "language_info": {
   "codemirror_mode": {
    "name": "ipython",
    "version": 3
   },
   "file_extension": ".py",
   "mimetype": "text/x-python",
   "name": "python",
   "nbconvert_exporter": "python",
   "pygments_lexer": "ipython3",
   "version": "3.9.12"
  }
 },
 "nbformat": 4,
 "nbformat_minor": 5
}
