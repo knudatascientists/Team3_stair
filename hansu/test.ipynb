{
 "cells": [
  {
   "cell_type": "code",
   "execution_count": 1,
   "id": "4be766c8",
   "metadata": {},
   "outputs": [],
   "source": [
    "from station import Station\n",
    "from userInfo import UserInfo\n",
    "station_app = Station()\n",
    "user1 = UserInfo.geocoding('대구광역시 산격동 글로벌플라자')"
   ]
  },
  {
   "cell_type": "code",
   "execution_count": 2,
   "id": "646335c7",
   "metadata": {
    "scrolled": true
   },
   "outputs": [
    {
     "data": {
      "text/plain": [
       "['seoul_loc', '년도별_valuecounts', '차량등록', '충전소', '충전소별_충전구분']"
      ]
     },
     "execution_count": 2,
     "metadata": {},
     "output_type": "execute_result"
    }
   ],
   "source": [
    "station_app.get_tabel_names()"
   ]
  },
  {
   "cell_type": "code",
   "execution_count": 4,
   "id": "e1bc4a80",
   "metadata": {},
   "outputs": [
    {
     "name": "stdout",
     "output_type": "stream",
     "text": [
      "사용자 현제 위치 : 대구광역시 산격동 글로벌플라자\n",
      "위도 : 35.891887, 경도 : 128.61133700069712\n"
     ]
    }
   ],
   "source": [
    "user1.get_user_info()"
   ]
  },
  {
   "cell_type": "code",
   "execution_count": null,
   "id": "4ce2696c",
   "metadata": {},
   "outputs": [],
   "source": []
  }
 ],
 "metadata": {
  "kernelspec": {
   "display_name": "Python 3 (ipykernel)",
   "language": "python",
   "name": "python3"
  },
  "language_info": {
   "codemirror_mode": {
    "name": "ipython",
    "version": 3
   },
   "file_extension": ".py",
   "mimetype": "text/x-python",
   "name": "python",
   "nbconvert_exporter": "python",
   "pygments_lexer": "ipython3",
   "version": "3.9.12"
  }
 },
 "nbformat": 4,
 "nbformat_minor": 5
}
