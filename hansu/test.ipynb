{
 "cells": [
  {
   "cell_type": "code",
   "execution_count": 1,
   "id": "4be766c8",
   "metadata": {},
   "outputs": [],
   "source": [
    "from station import Station\n",
    "from userInfo import UserInfo\n",
    "station_app = Station()\n",
    "user1 = UserInfo.geocoding('대구광역시 산격동 글로벌플라자')"
   ]
  },
  {
   "cell_type": "code",
   "execution_count": 2,
   "id": "8c266c45",
   "metadata": {
    "scrolled": true
   },
   "outputs": [
    {
     "data": {
      "text/plain": [
       "['seoul_loc', '년도별_valuecounts', '차량등록', '충전소', '충전소별_충전구분']"
      ]
     },
     "execution_count": 2,
     "metadata": {},
     "output_type": "execute_result"
    }
   ],
   "source": [
    "station_app.get_tabel_names()"
   ]
  },
  {
   "cell_type": "code",
   "execution_count": 3,
   "id": "1376d047",
   "metadata": {},
   "outputs": [
    {
     "name": "stdout",
     "output_type": "stream",
     "text": [
      "사용자 현재 위치 : 대구광역시 산격동 글로벌플라자\n",
      "위도 : 35.891887, 경도 : 128.61133700069712\n"
     ]
    }
   ],
   "source": [
    "user1.get_user_info()"
   ]
  },
  {
   "cell_type": "code",
   "execution_count": 4,
   "id": "f59ec21c",
   "metadata": {},
   "outputs": [
    {
     "data": {
      "text/html": [
       "<div>\n",
       "<style scoped>\n",
       "    .dataframe tbody tr th:only-of-type {\n",
       "        vertical-align: middle;\n",
       "    }\n",
       "\n",
       "    .dataframe tbody tr th {\n",
       "        vertical-align: top;\n",
       "    }\n",
       "\n",
       "    .dataframe thead th {\n",
       "        text-align: right;\n",
       "    }\n",
       "</style>\n",
       "<table border=\"1\" class=\"dataframe\">\n",
       "  <thead>\n",
       "    <tr style=\"text-align: right;\">\n",
       "      <th></th>\n",
       "      <th>ind</th>\n",
       "      <th>행정동</th>\n",
       "      <th>연료</th>\n",
       "    </tr>\n",
       "  </thead>\n",
       "  <tbody>\n",
       "    <tr>\n",
       "      <th>0</th>\n",
       "      <td>1</td>\n",
       "      <td>서울특별시 송파구 가락2동</td>\n",
       "      <td>하이브리드(휘발유+전기)</td>\n",
       "    </tr>\n",
       "    <tr>\n",
       "      <th>1</th>\n",
       "      <td>2</td>\n",
       "      <td>서울특별시 송파구 가락2동</td>\n",
       "      <td>하이브리드(휘발유+전기)</td>\n",
       "    </tr>\n",
       "    <tr>\n",
       "      <th>2</th>\n",
       "      <td>3</td>\n",
       "      <td>서울특별시 강남구 개포1동</td>\n",
       "      <td>하이브리드(휘발유+전기)</td>\n",
       "    </tr>\n",
       "    <tr>\n",
       "      <th>3</th>\n",
       "      <td>4</td>\n",
       "      <td>서울특별시 송파구 가락2동</td>\n",
       "      <td>하이브리드(휘발유+전기)</td>\n",
       "    </tr>\n",
       "    <tr>\n",
       "      <th>4</th>\n",
       "      <td>5</td>\n",
       "      <td>서울특별시 강남구 개포1동</td>\n",
       "      <td>하이브리드(휘발유+전기)</td>\n",
       "    </tr>\n",
       "    <tr>\n",
       "      <th>...</th>\n",
       "      <td>...</td>\n",
       "      <td>...</td>\n",
       "      <td>...</td>\n",
       "    </tr>\n",
       "    <tr>\n",
       "      <th>189570</th>\n",
       "      <td>189571</td>\n",
       "      <td>서울특별시 중랑구 중화2동</td>\n",
       "      <td>하이브리드(휘발유+전기)</td>\n",
       "    </tr>\n",
       "    <tr>\n",
       "      <th>189571</th>\n",
       "      <td>189572</td>\n",
       "      <td>서울특별시 중랑구 중화2동</td>\n",
       "      <td>하이브리드(휘발유+전기)</td>\n",
       "    </tr>\n",
       "    <tr>\n",
       "      <th>189572</th>\n",
       "      <td>189573</td>\n",
       "      <td>서울특별시 중랑구 중화2동</td>\n",
       "      <td>하이브리드(휘발유+전기)</td>\n",
       "    </tr>\n",
       "    <tr>\n",
       "      <th>189573</th>\n",
       "      <td>189574</td>\n",
       "      <td>서울특별시 중랑구 중화2동</td>\n",
       "      <td>하이브리드(휘발유+전기)</td>\n",
       "    </tr>\n",
       "    <tr>\n",
       "      <th>189574</th>\n",
       "      <td>189575</td>\n",
       "      <td>서울특별시 중랑구 중화2동</td>\n",
       "      <td>전기</td>\n",
       "    </tr>\n",
       "  </tbody>\n",
       "</table>\n",
       "<p>189575 rows × 3 columns</p>\n",
       "</div>"
      ],
      "text/plain": [
       "           ind             행정동             연료\n",
       "0            1  서울특별시 송파구 가락2동  하이브리드(휘발유+전기)\n",
       "1            2  서울특별시 송파구 가락2동  하이브리드(휘발유+전기)\n",
       "2            3  서울특별시 강남구 개포1동  하이브리드(휘발유+전기)\n",
       "3            4  서울특별시 송파구 가락2동  하이브리드(휘발유+전기)\n",
       "4            5  서울특별시 강남구 개포1동  하이브리드(휘발유+전기)\n",
       "...        ...             ...            ...\n",
       "189570  189571  서울특별시 중랑구 중화2동  하이브리드(휘발유+전기)\n",
       "189571  189572  서울특별시 중랑구 중화2동  하이브리드(휘발유+전기)\n",
       "189572  189573  서울특별시 중랑구 중화2동  하이브리드(휘발유+전기)\n",
       "189573  189574  서울특별시 중랑구 중화2동  하이브리드(휘발유+전기)\n",
       "189574  189575  서울특별시 중랑구 중화2동             전기\n",
       "\n",
       "[189575 rows x 3 columns]"
      ]
     },
     "execution_count": 4,
     "metadata": {},
     "output_type": "execute_result"
    }
   ],
   "source": [
    "station_app.load_DB('차량등록')"
   ]
  },
  {
   "cell_type": "code",
   "execution_count": null,
   "id": "0851a2f1",
   "metadata": {},
   "outputs": [],
   "source": []
  }
 ],
 "metadata": {
  "kernelspec": {
   "display_name": "Python 3 (ipykernel)",
   "language": "python",
   "name": "python3"
  },
  "language_info": {
   "codemirror_mode": {
    "name": "ipython",
    "version": 3
   },
   "file_extension": ".py",
   "mimetype": "text/x-python",
   "name": "python",
   "nbconvert_exporter": "python",
   "pygments_lexer": "ipython3",
   "version": "3.9.12"
  }
 },
 "nbformat": 4,
 "nbformat_minor": 5
}
