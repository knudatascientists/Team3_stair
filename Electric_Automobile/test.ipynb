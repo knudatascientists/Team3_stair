{
 "cells": [
  {
   "cell_type": "code",
   "execution_count": 1,
   "id": "4be766c8",
   "metadata": {},
   "outputs": [],
   "source": [
    "from station import Station\n",
    "from userInfo import UserInfo\n",
    "station_app = Station()\n",
    "user= UserInfo.geocoding('대구광역시 산격동 글로벌플라자')"
   ]
  },
  {
   "cell_type": "code",
   "execution_count": 4,
   "id": "860447e0",
   "metadata": {},
   "outputs": [
    {
     "data": {
      "text/plain": [
       "35.891887"
      ]
     },
     "execution_count": 4,
     "metadata": {},
     "output_type": "execute_result"
    }
   ],
   "source": [
    "float(user.loc['lat'])"
   ]
  },
  {
   "cell_type": "code",
   "execution_count": 11,
   "id": "56a58f52",
   "metadata": {},
   "outputs": [
    {
     "data": {
      "text/html": [
       "<div>\n",
       "<style scoped>\n",
       "    .dataframe tbody tr th:only-of-type {\n",
       "        vertical-align: middle;\n",
       "    }\n",
       "\n",
       "    .dataframe tbody tr th {\n",
       "        vertical-align: top;\n",
       "    }\n",
       "\n",
       "    .dataframe thead th {\n",
       "        text-align: right;\n",
       "    }\n",
       "</style>\n",
       "<table border=\"1\" class=\"dataframe\">\n",
       "  <thead>\n",
       "    <tr style=\"text-align: right;\">\n",
       "      <th></th>\n",
       "      <th>station</th>\n",
       "      <th>LAT</th>\n",
       "      <th>LNG</th>\n",
       "    </tr>\n",
       "  </thead>\n",
       "  <tbody>\n",
       "    <tr>\n",
       "      <th>0</th>\n",
       "      <td>DMC래미안e편한세상</td>\n",
       "      <td>37.572233</td>\n",
       "      <td>126.909946</td>\n",
       "    </tr>\n",
       "    <tr>\n",
       "      <th>1</th>\n",
       "      <td>DMC센트럴아이파크아파트</td>\n",
       "      <td>37.579362</td>\n",
       "      <td>126.920840</td>\n",
       "    </tr>\n",
       "    <tr>\n",
       "      <th>2</th>\n",
       "      <td>DMC아이파크 아파트</td>\n",
       "      <td>37.575441</td>\n",
       "      <td>126.914327</td>\n",
       "    </tr>\n",
       "    <tr>\n",
       "      <th>3</th>\n",
       "      <td>e편한세상 금호파크힐스</td>\n",
       "      <td>37.554215</td>\n",
       "      <td>127.022719</td>\n",
       "    </tr>\n",
       "    <tr>\n",
       "      <th>4</th>\n",
       "      <td>e편한세상마포리버파크</td>\n",
       "      <td>37.541996</td>\n",
       "      <td>126.943692</td>\n",
       "    </tr>\n",
       "    <tr>\n",
       "      <th>...</th>\n",
       "      <td>...</td>\n",
       "      <td>...</td>\n",
       "      <td>...</td>\n",
       "    </tr>\n",
       "    <tr>\n",
       "      <th>625</th>\n",
       "      <td>휘경주공1단지</td>\n",
       "      <td>37.582369</td>\n",
       "      <td>127.071263</td>\n",
       "    </tr>\n",
       "    <tr>\n",
       "      <th>626</th>\n",
       "      <td>흑석한강센트레빌</td>\n",
       "      <td>37.505913</td>\n",
       "      <td>126.965193</td>\n",
       "    </tr>\n",
       "    <tr>\n",
       "      <th>627</th>\n",
       "      <td>힐스테이트 강동리버뷰</td>\n",
       "      <td>37.548820</td>\n",
       "      <td>127.125370</td>\n",
       "    </tr>\n",
       "    <tr>\n",
       "      <th>628</th>\n",
       "      <td>힐스테이트상도프레스티지</td>\n",
       "      <td>37.494751</td>\n",
       "      <td>126.948272</td>\n",
       "    </tr>\n",
       "    <tr>\n",
       "      <th>629</th>\n",
       "      <td>힐스테이트청계</td>\n",
       "      <td>37.571543</td>\n",
       "      <td>127.045904</td>\n",
       "    </tr>\n",
       "  </tbody>\n",
       "</table>\n",
       "<p>630 rows × 3 columns</p>\n",
       "</div>"
      ],
      "text/plain": [
       "           station        LAT         LNG\n",
       "0      DMC래미안e편한세상  37.572233  126.909946\n",
       "1    DMC센트럴아이파크아파트  37.579362  126.920840\n",
       "2      DMC아이파크 아파트  37.575441  126.914327\n",
       "3     e편한세상 금호파크힐스  37.554215  127.022719\n",
       "4      e편한세상마포리버파크  37.541996  126.943692\n",
       "..             ...        ...         ...\n",
       "625        휘경주공1단지  37.582369  127.071263\n",
       "626       흑석한강센트레빌  37.505913  126.965193\n",
       "627    힐스테이트 강동리버뷰  37.548820  127.125370\n",
       "628   힐스테이트상도프레스티지  37.494751  126.948272\n",
       "629        힐스테이트청계  37.571543  127.045904\n",
       "\n",
       "[630 rows x 3 columns]"
      ]
     },
     "execution_count": 11,
     "metadata": {},
     "output_type": "execute_result"
    }
   ],
   "source": [
    "df = station_app.load_DB('seoul_loc')\n",
    "df"
   ]
  },
  {
   "cell_type": "code",
   "execution_count": 12,
   "id": "c114fc0f",
   "metadata": {},
   "outputs": [
    {
     "name": "stdout",
     "output_type": "stream",
     "text": [
      "           station        lat         lon\n",
      "0      DMC래미안e편한세상  37.572233  126.909946\n",
      "1    DMC센트럴아이파크아파트  37.579362  126.920840\n",
      "2      DMC아이파크 아파트  37.575441  126.914327\n",
      "3     e편한세상 금호파크힐스  37.554215  127.022719\n",
      "4      e편한세상마포리버파크  37.541996  126.943692\n",
      "..             ...        ...         ...\n",
      "625        휘경주공1단지  37.582369  127.071263\n",
      "626       흑석한강센트레빌  37.505913  126.965193\n",
      "627    힐스테이트 강동리버뷰  37.548820  127.125370\n",
      "628   힐스테이트상도프레스티지  37.494751  126.948272\n",
      "629        힐스테이트청계  37.571543  127.045904\n",
      "\n",
      "[630 rows x 3 columns]\n"
     ]
    }
   ],
   "source": [
    "df.rename(columns = {'LAT':'lat', 'LNG':'lon'}, inplace = True)\n",
    "print(df)\n"
   ]
  },
  {
   "cell_type": "code",
   "execution_count": 13,
   "id": "18930583",
   "metadata": {},
   "outputs": [
    {
     "data": {
      "text/html": [
       "<div>\n",
       "<style scoped>\n",
       "    .dataframe tbody tr th:only-of-type {\n",
       "        vertical-align: middle;\n",
       "    }\n",
       "\n",
       "    .dataframe tbody tr th {\n",
       "        vertical-align: top;\n",
       "    }\n",
       "\n",
       "    .dataframe thead th {\n",
       "        text-align: right;\n",
       "    }\n",
       "</style>\n",
       "<table border=\"1\" class=\"dataframe\">\n",
       "  <thead>\n",
       "    <tr style=\"text-align: right;\">\n",
       "      <th></th>\n",
       "      <th>station</th>\n",
       "      <th>lat</th>\n",
       "      <th>lon</th>\n",
       "    </tr>\n",
       "  </thead>\n",
       "  <tbody>\n",
       "    <tr>\n",
       "      <th>131</th>\n",
       "      <td>남서울힐스테이트아파트</td>\n",
       "      <td>37.446617</td>\n",
       "      <td>126.902160</td>\n",
       "    </tr>\n",
       "    <tr>\n",
       "      <th>376</th>\n",
       "      <td>서초포레스타5단지</td>\n",
       "      <td>37.451143</td>\n",
       "      <td>127.057683</td>\n",
       "    </tr>\n",
       "    <tr>\n",
       "      <th>369</th>\n",
       "      <td>서초더샵포레</td>\n",
       "      <td>37.453922</td>\n",
       "      <td>127.064331</td>\n",
       "    </tr>\n",
       "    <tr>\n",
       "      <th>354</th>\n",
       "      <td>서울시립어린이병원</td>\n",
       "      <td>37.455718</td>\n",
       "      <td>127.068854</td>\n",
       "    </tr>\n",
       "    <tr>\n",
       "      <th>377</th>\n",
       "      <td>서초호반써밋아파트</td>\n",
       "      <td>37.456115</td>\n",
       "      <td>127.013784</td>\n",
       "    </tr>\n",
       "    <tr>\n",
       "      <th>...</th>\n",
       "      <td>...</td>\n",
       "      <td>...</td>\n",
       "      <td>...</td>\n",
       "    </tr>\n",
       "    <tr>\n",
       "      <th>165</th>\n",
       "      <td>도봉현대성우 아파트</td>\n",
       "      <td>37.676280</td>\n",
       "      <td>127.047334</td>\n",
       "    </tr>\n",
       "    <tr>\n",
       "      <th>272</th>\n",
       "      <td>미주동방벽운 아파트</td>\n",
       "      <td>37.681033</td>\n",
       "      <td>127.055760</td>\n",
       "    </tr>\n",
       "    <tr>\n",
       "      <th>177</th>\n",
       "      <td>동아에코빌 아파트</td>\n",
       "      <td>37.681792</td>\n",
       "      <td>127.047134</td>\n",
       "    </tr>\n",
       "    <tr>\n",
       "      <th>343</th>\n",
       "      <td>서울가든 아파트</td>\n",
       "      <td>37.686862</td>\n",
       "      <td>127.041000</td>\n",
       "    </tr>\n",
       "    <tr>\n",
       "      <th>414</th>\n",
       "      <td>수락리버시티3단지</td>\n",
       "      <td>37.687134</td>\n",
       "      <td>127.054430</td>\n",
       "    </tr>\n",
       "  </tbody>\n",
       "</table>\n",
       "<p>630 rows × 3 columns</p>\n",
       "</div>"
      ],
      "text/plain": [
       "         station        lat         lon\n",
       "131  남서울힐스테이트아파트  37.446617  126.902160\n",
       "376    서초포레스타5단지  37.451143  127.057683\n",
       "369       서초더샵포레  37.453922  127.064331\n",
       "354    서울시립어린이병원  37.455718  127.068854\n",
       "377    서초호반써밋아파트  37.456115  127.013784\n",
       "..           ...        ...         ...\n",
       "165   도봉현대성우 아파트  37.676280  127.047334\n",
       "272   미주동방벽운 아파트  37.681033  127.055760\n",
       "177    동아에코빌 아파트  37.681792  127.047134\n",
       "343     서울가든 아파트  37.686862  127.041000\n",
       "414    수락리버시티3단지  37.687134  127.054430\n",
       "\n",
       "[630 rows x 3 columns]"
      ]
     },
     "execution_count": 13,
     "metadata": {},
     "output_type": "execute_result"
    }
   ],
   "source": [
    "df.sort_values('lat')"
   ]
  },
  {
   "cell_type": "code",
   "execution_count": 10,
   "id": "00a45dcc",
   "metadata": {},
   "outputs": [
    {
     "data": {
      "text/plain": [
       "37.572233"
      ]
     },
     "execution_count": 10,
     "metadata": {},
     "output_type": "execute_result"
    }
   ],
   "source": [
    "df['lat']"
   ]
  },
  {
   "cell_type": "code",
   "execution_count": 14,
   "id": "8732f985",
   "metadata": {},
   "outputs": [
    {
     "data": {
      "text/html": [
       "<div>\n",
       "<style scoped>\n",
       "    .dataframe tbody tr th:only-of-type {\n",
       "        vertical-align: middle;\n",
       "    }\n",
       "\n",
       "    .dataframe tbody tr th {\n",
       "        vertical-align: top;\n",
       "    }\n",
       "\n",
       "    .dataframe thead th {\n",
       "        text-align: right;\n",
       "    }\n",
       "</style>\n",
       "<table border=\"1\" class=\"dataframe\">\n",
       "  <thead>\n",
       "    <tr style=\"text-align: right;\">\n",
       "      <th></th>\n",
       "      <th>station</th>\n",
       "      <th>lat</th>\n",
       "      <th>lon</th>\n",
       "    </tr>\n",
       "  </thead>\n",
       "  <tbody>\n",
       "    <tr>\n",
       "      <th>0</th>\n",
       "      <td>DMC래미안e편한세상</td>\n",
       "      <td>37.572233</td>\n",
       "      <td>126.909946</td>\n",
       "    </tr>\n",
       "  </tbody>\n",
       "</table>\n",
       "</div>"
      ],
      "text/plain": [
       "       station        lat         lon\n",
       "0  DMC래미안e편한세상  37.572233  126.909946"
      ]
     },
     "execution_count": 14,
     "metadata": {},
     "output_type": "execute_result"
    }
   ],
   "source": [
    "df.iloc[[0],:]"
   ]
  },
  {
   "cell_type": "code",
   "execution_count": 2,
   "id": "8ee86358",
   "metadata": {
    "scrolled": true
   },
   "outputs": [
    {
     "data": {
      "text/plain": [
       "['seoul_loc', '년도별_valuecounts', '차량등록', '충전소', '충전소별_충전구분']"
      ]
     },
     "execution_count": 2,
     "metadata": {},
     "output_type": "execute_result"
    }
   ],
   "source": [
    "station_app.get_tabel_names()"
   ]
  },
  {
   "cell_type": "code",
   "execution_count": 3,
   "id": "fff2b837",
   "metadata": {},
   "outputs": [
    {
     "name": "stdout",
     "output_type": "stream",
     "text": [
      "사용자 현재 위치 : 대구광역시 산격동 글로벌플라자\n",
      "위도 : 35.891887, 경도 : 128.61133700069712\n"
     ]
    }
   ],
   "source": [
    "user1.get_user_info()"
   ]
  },
  {
   "cell_type": "code",
   "execution_count": 4,
   "id": "0c97ecfe",
   "metadata": {},
   "outputs": [
    {
     "data": {
      "text/html": [
       "<div>\n",
       "<style scoped>\n",
       "    .dataframe tbody tr th:only-of-type {\n",
       "        vertical-align: middle;\n",
       "    }\n",
       "\n",
       "    .dataframe tbody tr th {\n",
       "        vertical-align: top;\n",
       "    }\n",
       "\n",
       "    .dataframe thead th {\n",
       "        text-align: right;\n",
       "    }\n",
       "</style>\n",
       "<table border=\"1\" class=\"dataframe\">\n",
       "  <thead>\n",
       "    <tr style=\"text-align: right;\">\n",
       "      <th></th>\n",
       "      <th>ind</th>\n",
       "      <th>행정동</th>\n",
       "      <th>연료</th>\n",
       "    </tr>\n",
       "  </thead>\n",
       "  <tbody>\n",
       "    <tr>\n",
       "      <th>0</th>\n",
       "      <td>1</td>\n",
       "      <td>서울특별시 송파구 가락2동</td>\n",
       "      <td>하이브리드(휘발유+전기)</td>\n",
       "    </tr>\n",
       "    <tr>\n",
       "      <th>1</th>\n",
       "      <td>2</td>\n",
       "      <td>서울특별시 송파구 가락2동</td>\n",
       "      <td>하이브리드(휘발유+전기)</td>\n",
       "    </tr>\n",
       "    <tr>\n",
       "      <th>2</th>\n",
       "      <td>3</td>\n",
       "      <td>서울특별시 강남구 개포1동</td>\n",
       "      <td>하이브리드(휘발유+전기)</td>\n",
       "    </tr>\n",
       "    <tr>\n",
       "      <th>3</th>\n",
       "      <td>4</td>\n",
       "      <td>서울특별시 송파구 가락2동</td>\n",
       "      <td>하이브리드(휘발유+전기)</td>\n",
       "    </tr>\n",
       "    <tr>\n",
       "      <th>4</th>\n",
       "      <td>5</td>\n",
       "      <td>서울특별시 강남구 개포1동</td>\n",
       "      <td>하이브리드(휘발유+전기)</td>\n",
       "    </tr>\n",
       "    <tr>\n",
       "      <th>...</th>\n",
       "      <td>...</td>\n",
       "      <td>...</td>\n",
       "      <td>...</td>\n",
       "    </tr>\n",
       "    <tr>\n",
       "      <th>189570</th>\n",
       "      <td>189571</td>\n",
       "      <td>서울특별시 중랑구 중화2동</td>\n",
       "      <td>하이브리드(휘발유+전기)</td>\n",
       "    </tr>\n",
       "    <tr>\n",
       "      <th>189571</th>\n",
       "      <td>189572</td>\n",
       "      <td>서울특별시 중랑구 중화2동</td>\n",
       "      <td>하이브리드(휘발유+전기)</td>\n",
       "    </tr>\n",
       "    <tr>\n",
       "      <th>189572</th>\n",
       "      <td>189573</td>\n",
       "      <td>서울특별시 중랑구 중화2동</td>\n",
       "      <td>하이브리드(휘발유+전기)</td>\n",
       "    </tr>\n",
       "    <tr>\n",
       "      <th>189573</th>\n",
       "      <td>189574</td>\n",
       "      <td>서울특별시 중랑구 중화2동</td>\n",
       "      <td>하이브리드(휘발유+전기)</td>\n",
       "    </tr>\n",
       "    <tr>\n",
       "      <th>189574</th>\n",
       "      <td>189575</td>\n",
       "      <td>서울특별시 중랑구 중화2동</td>\n",
       "      <td>전기</td>\n",
       "    </tr>\n",
       "  </tbody>\n",
       "</table>\n",
       "<p>189575 rows × 3 columns</p>\n",
       "</div>"
      ],
      "text/plain": [
       "           ind             행정동             연료\n",
       "0            1  서울특별시 송파구 가락2동  하이브리드(휘발유+전기)\n",
       "1            2  서울특별시 송파구 가락2동  하이브리드(휘발유+전기)\n",
       "2            3  서울특별시 강남구 개포1동  하이브리드(휘발유+전기)\n",
       "3            4  서울특별시 송파구 가락2동  하이브리드(휘발유+전기)\n",
       "4            5  서울특별시 강남구 개포1동  하이브리드(휘발유+전기)\n",
       "...        ...             ...            ...\n",
       "189570  189571  서울특별시 중랑구 중화2동  하이브리드(휘발유+전기)\n",
       "189571  189572  서울특별시 중랑구 중화2동  하이브리드(휘발유+전기)\n",
       "189572  189573  서울특별시 중랑구 중화2동  하이브리드(휘발유+전기)\n",
       "189573  189574  서울특별시 중랑구 중화2동  하이브리드(휘발유+전기)\n",
       "189574  189575  서울특별시 중랑구 중화2동             전기\n",
       "\n",
       "[189575 rows x 3 columns]"
      ]
     },
     "execution_count": 4,
     "metadata": {},
     "output_type": "execute_result"
    }
   ],
   "source": [
    "station_app.load_DB('차량등록')"
   ]
  },
  {
   "cell_type": "code",
   "execution_count": null,
   "id": "cf2566af",
   "metadata": {},
   "outputs": [],
   "source": []
  }
 ],
 "metadata": {
  "kernelspec": {
   "display_name": "Python 3 (ipykernel)",
   "language": "python",
   "name": "python3"
  },
  "language_info": {
   "codemirror_mode": {
    "name": "ipython",
    "version": 3
   },
   "file_extension": ".py",
   "mimetype": "text/x-python",
   "name": "python",
   "nbconvert_exporter": "python",
   "pygments_lexer": "ipython3",
   "version": "3.9.12"
  }
 },
 "nbformat": 4,
 "nbformat_minor": 5
}
